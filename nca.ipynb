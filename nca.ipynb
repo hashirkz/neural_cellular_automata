{
 "cells": [
  {
   "cell_type": "code",
   "execution_count": 47,
   "metadata": {},
   "outputs": [],
   "source": [
    "import numpy as np\n",
    "import pandas as pd\n",
    "import scipy as sp\n",
    "from matplotlib import pyplot as plt\n",
    "from matplotlib import image as matimg\n",
    "import tensorflow as tf\n",
    "\n",
    "import imageio.v3 as iio\n",
    "import math as m\n",
    "import time\n",
    "import os\n",
    "import re"
   ]
  },
  {
   "cell_type": "code",
   "execution_count": 22,
   "metadata": {},
   "outputs": [
    {
     "name": "stdout",
     "output_type": "stream",
     "text": [
      "dimensions: 50x50x3\n",
      "min_px: 0.0\n",
      "max_px: 1.0\n",
      "mean_px: 0.5720536844793876\n"
     ]
    },
    {
     "data": {
      "image/png": "[encoded data removed]",
      "text/plain": [
       "<Figure size 432x288 with 1 Axes>"
      ]
     },
     "metadata": {
      "needs_background": "light"
     },
     "output_type": "display_data"
    },
    {
     "data": {
      "text/plain": [
       "<Figure size 432x288 with 0 Axes>"
      ]
     },
     "metadata": {},
     "output_type": "display_data"
    }
   ],
   "source": [
    "# utility functions\n",
    "\n",
    "# normalizes px values of ndarray to range [0, 1]\n",
    "normalize = lambda img: (img - np.min(img)) / np.ptp(img)\n",
    "\n",
    "# makes a random population of n x n x 3 pxs \n",
    "# normalized px values to range [0, 1]\n",
    "populate_random = lambda n : normalize(np.random.randn(n, n, 3))\n",
    "\n",
    "def show_img(img: np.ndarray, gray: bool=False, stats: bool=True, time: int=0.1, show: bool=True, save: bool=False, path: str | None=None) -> None:\n",
    "    plt.ion()\n",
    "    plt.axis('off')\n",
    "    try:\n",
    "        row, col, chn = img.shape\n",
    "        min, max, mean = np.min(img), np.max(img), np.mean(img)\n",
    "        if stats: print(f'dimensions: {row}x{col}x{chn}\\nmin_px: {min}\\nmax_px: {max}\\nmean_px: {mean}')\n",
    "        plt.imshow(img) if not gray else plt.imshow(img[:, :, 0], cmap='gray')\n",
    "        if save: matimg.imsave(path, img, format='png')\n",
    "        if show:\n",
    "            plt.draw()\n",
    "            plt.pause(time)\n",
    "\n",
    "        plt.clf()\n",
    "    except:\n",
    "        print(f'unable to display img of dim: {img.shape}')\n",
    "\n",
    "\n",
    "sample = populate_random(50)\n",
    "show_img(sample, save=True, path='sample.png')"
   ]
  },
  {
   "cell_type": "code",
   "execution_count": 54,
   "metadata": {},
   "outputs": [
    {
     "data": {
      "text/plain": [
       "<Figure size 432x288 with 0 Axes>"
      ]
     },
     "metadata": {},
     "output_type": "display_data"
    }
   ],
   "source": [
    "# lossless convolution on *img using kernel/filter *kernel with some lambda activation function\n",
    "# note activation is a function *either lambda or defined somewhere ex np.tanh and *sigmoid\n",
    "\n",
    "sigmoid = lambda x : 1 / (1 + np.e ** -x)\n",
    "def simulate(img: np.ndarray, kernel: np.ndarray, activation, steps: int=1, show: bool=False, save: bool=False) -> np.ndarray:\n",
    "    conv, step = img, 0\n",
    "    dirname = './imgs'\n",
    "    try:\n",
    "        plt.ion()\n",
    "        for _ in range(steps):\n",
    "            conv = sp.ndimage.convolve(conv, kernel, mode='reflect', cval=0.0)\n",
    "            activation(conv)\n",
    "            conv = normalize(conv)\n",
    "            show_img(conv, stats=False, save=save, show=show, path=f'{dirname}/frame_{step}.png')\n",
    "            step += 1\n",
    "    \n",
    "    except:\n",
    "        print(f'unable to convolve img with kernel\\nimg dim: {img.shape}\\nkernel dim: {kernel.shape}\\nactivation: {activation}current step: {step}')\n",
    "\n",
    "# void function to save the images at read_dir as a gif to write_dir\n",
    "def imgs_to_gif(read_dir: str='./imgs', write_dir: str='./gifs', duration: int=14):\n",
    "    names = sorted(os.listdir(write_dir))\n",
    "    gif_num = int(re.match(r'.*_(\\d)\\.gif',f'{names[-1]}').group(1)) + 1 if names else 0\n",
    "    gif_name = f'{write_dir}/gif_{gif_num}.gif'\n",
    "\n",
    "    gif = [iio.imread(f'{read_dir}/{img_name}') for img_name in sorted(os.listdir(read_dir))]\n",
    "\n",
    "    iio.imwrite(gif_name, gif, duration=0.1)\n",
    "            \n",
    "\n",
    "\n",
    "# use this template to make ur own kernel\n",
    "# kernel = np.array(\n",
    "#     [\n",
    "#         [\n",
    "#             [0.037, 0.037, 0.037], [0.037, 0.037, 0.037], [0.037, 0.037, 0.037]\n",
    "#         ],\n",
    "#         [\n",
    "#             [0.037, 0.037, 0.037], [0.037, 0.037, 0.037], [0.037, 0.037, 0.037]\n",
    "#         ],\n",
    "#         [\n",
    "#             [0.037, 0.037, 0.037], [0.0371, 0.037, 0.037], [0.037, 0.037, 0.037]\n",
    "#         ]\n",
    "#     ]\n",
    "# )\n",
    "\n",
    "# kernel = np.random.rand(3, 3, 3)\n",
    "kernel = normalize(np.random.randn(3, 3, 3))\n",
    "\n",
    "img = populate_random(50)\n",
    "\n",
    "simulate(img, kernel, activation=sigmoid, steps=50, save=True)\n",
    "imgs_to_gif()\n",
    "\n",
    "# img = matimg.imread('./imgs/frame_0.png', format='png')[:, :, :]\n",
    "# print(img.shape, type(img))\n",
    "# plt.imshow(img)"
   ]
  }
 ],
 "metadata": {
  "kernelspec": {
   "display_name": "Python 3.10.1 64-bit",
   "language": "python",
   "name": "python3"
  },
  "language_info": {
   "codemirror_mode": {
    "name": "ipython",
    "version": 3
   },
   "file_extension": ".py",
   "mimetype": "text/x-python",
   "name": "python",
   "nbconvert_exporter": "python",
   "pygments_lexer": "ipython3",
   "version": "3.10.1"
  },
  "orig_nbformat": 4,
  "vscode": {
   "interpreter": {
    "hash": "3b79a9603654acc1a1dda7ab9d7fbeea5670a7835087b35cd5f08522a1762abf"
   }
  }
 },
 "nbformat": 4,
 "nbformat_minor": 2
}
